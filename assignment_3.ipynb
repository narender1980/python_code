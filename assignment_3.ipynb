{
 "cells": [
  {
   "cell_type": "code",
   "execution_count": 6,
   "metadata": {},
   "outputs": [
    {
     "name": "stdout",
     "output_type": "stream",
     "text": [
      "you cannot divide by a zero,  division by zero\n",
      "Code is executed\n"
     ]
    }
   ],
   "source": [
    "def f1(a,b):\n",
    "    try:\n",
    "        return a/b\n",
    "    \n",
    "    except Exception as e:\n",
    "        print(\"you cannot divide by a zero, \",e)\n",
    "        \n",
    "    finally:\n",
    "        print(\"Code is executed\")\n",
    "\n",
    "\n",
    "f1(5,0)"
   ]
  },
  {
   "cell_type": "code",
   "execution_count": 31,
   "metadata": {},
   "outputs": [
    {
     "name": "stdout",
     "output_type": "stream",
     "text": [
      "Americans play Baseball.\n",
      "Americans play Cricket.\n",
      "Americans watch Baseball.\n",
      "Americans watch Cricket.\n",
      "Indians play Baseball.\n",
      "Indians play Cricket.\n",
      "Indians watch Baseball.\n",
      "Indians watch Cricket.\n",
      "\n"
     ]
    }
   ],
   "source": [
    "subjects=[\"Americans\",\"Indians\"]\n",
    "verbs=[\"play\",\"watch\"]\n",
    "objects=[\"Baseball\",\"Cricket\"]\n",
    "\n",
    "for i in subjects:\n",
    "    for j in verbs:\n",
    "        for k in objects:\n",
    "            print(i+\" \"+j+\" \"+k+\".\")\n",
    "        \n",
    "print()"
   ]
  },
  {
   "cell_type": "code",
   "execution_count": 34,
   "metadata": {},
   "outputs": [
    {
     "data": {
      "text/plain": [
       "['AmericansplayBaseball',\n",
       " 'IndiansplayBaseball',\n",
       " 'AmericanswatchBaseball',\n",
       " 'IndianswatchBaseball',\n",
       " 'AmericansplayCricket',\n",
       " 'IndiansplayCricket',\n",
       " 'AmericanswatchCricket',\n",
       " 'IndianswatchCricket']"
      ]
     },
     "execution_count": 34,
     "metadata": {},
     "output_type": "execute_result"
    }
   ],
   "source": [
    "[i+j+k for k in objects for j in verbs for i in subjects]"
   ]
  },
  {
   "cell_type": "code",
   "execution_count": 12,
   "metadata": {},
   "outputs": [
    {
     "data": {
      "text/plain": [
       "array([[ 1,  1,  1],\n",
       "       [ 4,  2,  1],\n",
       "       [ 9,  3,  1],\n",
       "       [16,  4,  1],\n",
       "       [25,  5,  1]])"
      ]
     },
     "execution_count": 12,
     "metadata": {},
     "output_type": "execute_result"
    }
   ],
   "source": [
    "import numpy as np\n",
    "\n",
    "def fn_mat(inpvct, n, increasing=False):\n",
    "    \n",
    "    res_mat = np.array([x**(n-1-i) for x in inpvct for i in range(n)]).reshape(inpvct.size,n)\n",
    "    \n",
    "    return res_mat\n",
    "\n",
    "inpvct = np.array([1,2,3,4,5])    \n",
    "n = 3\n",
    "\n",
    "fn_mat(inpvct, n)"
   ]
  },
  {
   "cell_type": "code",
   "execution_count": null,
   "metadata": {},
   "outputs": [],
   "source": []
  }
 ],
 "metadata": {
  "kernelspec": {
   "display_name": "Python 3",
   "language": "python",
   "name": "python3"
  },
  "language_info": {
   "codemirror_mode": {
    "name": "ipython",
    "version": 3
   },
   "file_extension": ".py",
   "mimetype": "text/x-python",
   "name": "python",
   "nbconvert_exporter": "python",
   "pygments_lexer": "ipython3",
   "version": "3.7.7"
  }
 },
 "nbformat": 4,
 "nbformat_minor": 4
}
